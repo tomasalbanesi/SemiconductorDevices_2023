{
 "cells": [
  {
   "cell_type": "markdown",
   "id": "30ccdeb3-261f-4941-8d46-39f9c8aa7c40",
   "metadata": {},
   "source": [
    "<img src=\"./img/logo_UTN.svg\" align=\"right\" width=\"150\" /> \n",
    "\n",
    "### Dispositivos Electronicos - 2023\n",
    "# Semiconductores (U1): Teoria\n",
    "#### Tomas A. Albanesi"
   ]
  },
  {
   "cell_type": "markdown",
   "id": "9112f340-e045-4012-873a-5b92b07bbb62",
   "metadata": {},
   "source": [
    "## 1. Revision de la estructura atomica"
   ]
  },
  {
   "cell_type": "markdown",
   "id": "aed65c57-368d-44fd-84e9-c1e95d4c8666",
   "metadata": {},
   "source": [
    "#### Atomo de Bohr\n",
    "\n",
    "La primera teoria que explico la fisica del atomo y la razon de su estabilidad fue el fisico Niels Bohr, en 1913, planteando un modelo espacial del atomo.\n",
    "\n",
    "Para poder explicar su modelo atomico, elaboro cuatro postulados, los cuales, todo atomo debian obedecer:\n",
    "\n",
    "- 1) Los unicos radios permitidos en la orbita de un electron son aquellos que cumplen la condicion de que el momento angular es un numero entero de veces un valor constante de $\\frac{h}{2 \\cdot \\pi}$. Es decir (cuantificacion del momento angular):\n",
    "\n",
    "\\begin{equation}\n",
    "m \\cdot v \\cdot r = n \\cdot \\frac{h}{2 \\pi}\n",
    "\\end{equation}\n",
    "\n",
    "- 2) Las orbitas que cumplen la condicion del primer postulado son estables, es decir, en estas orbitas el electron puede estar sujeto a aceleracion centripeta sin irradiar energia.\n",
    "\n",
    "- 3) El electron irradia energia cuando cambia de una orbita superior a una inferior, y la onda electromagnetica de la energia irradiada tiene una frecuencia que cumple con la relacion de Planck-Einstein: $\\Delta E = h \\cdot f$\n",
    "\n",
    "- 4) El electron absorbe energia cuando pasa de una orbita inferior a una superior"
   ]
  },
  {
   "cell_type": "markdown",
   "id": "7fe1132e-eb4b-46fc-97c4-a3990cdcdafb",
   "metadata": {},
   "source": [
    "#### Teoria de De Broglie\n",
    "\n",
    "Si bien Bohr, mediante sus postulados, explica la estabilidad de la estructura atomica, y las experiencias confirmaron dichos postulados, el esquema hibrido entre postulados cuanticos y teorias clasicas no se tomaba valido. Es decir, por ejemplo, cuando Bohr establece en su segundo postulado que en las orbitas estables el electron no irradia energia, esta contradiciendo directamente a las leyes de Maxwell del electromagnetismo.\n",
    "\n",
    "Sin embargo, en el año 1924, un fisico frances llamado Louis De Broglie, postulo la siguiente teoria: \"Toda particula de masa m, en movimiento, tiene una onda asociada, de longitud de onda $\\lambda$ tal que\":\n",
    "\n",
    "\\begin{equation}\n",
    "\\lambda = \\frac{h}{p}\n",
    "\\end{equation}\n",
    "\n",
    "Ademas, segun esta dualidad onda-particula que plantea, el electron ha de elegir su orbita alrededor del proton de manera tal que tiene que ubicar so longitud de onda convenientemente. Todo otra orbita esta prohibida.\n",
    "\n",
    "Es decir, $2 \\cdot \\pi \\cdot r = n \\cdot \\lambda$, y reemplazando la longitud de onda de De Broglie, podemos llegar a la misma ecuacion del primer postulado de Bohr."
   ]
  },
  {
   "cell_type": "markdown",
   "id": "4e555872-98bb-4722-9d65-6ece3075b7f6",
   "metadata": {},
   "source": [
    "#### Schrödinger\n",
    "\n",
    "Aunque el fisico De Broglie confirma la cuantificacion del momento angular, la teoria del modelo atomico aun seguia siendo hibrida.\n",
    "\n",
    "Finalmente, en 1925, el fisico austriaco Erwin Schrödinger publica la solucion final totalmente cuantica. Es un modelo atomico energetico.\n",
    "\n",
    "\\begin{equation}\n",
    "\\nabla^2 \\Psi + \\frac{8 \\pi^2 m}{h^2} (E - V) \\Psi = 0\n",
    "\\end{equation}\n",
    "\n",
    "$\\Psi$ es una funcion tal que $\\left| \\Psi \\right| ^2$ puede interpretarse como la densidad de probabilidad de encontrar el electron. Es decir, el electron pierde su naturaleza corpuscular para convertirse en algo difuso, y de cuya presencia solo puede calcularse la probabilidad.\n"
   ]
  },
  {
   "cell_type": "markdown",
   "id": "6e0a90f3-8428-44e4-a977-2685672a7cc5",
   "metadata": {},
   "source": [
    "#### Numeros cuanticos\n",
    "\n",
    "Pendiente."
   ]
  },
  {
   "cell_type": "markdown",
   "id": "ddac5ac0-b986-4091-b92f-559879970828",
   "metadata": {},
   "source": [
    "#### Principio de exclusion de Pauli\n",
    "\n",
    "Pendiente."
   ]
  },
  {
   "cell_type": "markdown",
   "id": "b0ebc8ab-8a36-419f-bdbb-19a978ccaf27",
   "metadata": {},
   "source": [
    "#### Grafico del modelo atomico cuantico\n",
    "\n",
    "Pendiente."
   ]
  },
  {
   "cell_type": "markdown",
   "id": "7963b7ea-4574-41cb-bcbb-ada87bcb5347",
   "metadata": {},
   "source": [
    "## 2. Ligaduras de valencia"
   ]
  },
  {
   "cell_type": "markdown",
   "id": "874b1954-3a83-475f-941e-015b39683aa5",
   "metadata": {},
   "source": [
    "#### ¿Que es un semiconductor y cuales son sus diferencias con los conductores?\n",
    "\n",
    "Un semiconductor es un material o elemento, que en base a varios factores, conduce o no la corriente electrica.\n",
    "Entre los requisitos para ser semiconductor, se encuentra el que tiene que estar en el grupo IV de la tabla periodica, y ademas, debe tener sus orbitales inferior completos.\n",
    "\n",
    "La principal diferencia entre los metales (conductores) y los semiconductores es la diferencia de mecanismo de conduccion de la electricidad.\n",
    "\n",
    "En la naturaleza, los semiconductores se encuentran en forma de cristales covalentes. Ademas, estos cristales tiene propiedades anisotropas. Es decir, que dependiente en que direccion se \"corten\" las propiedades fisicas como temperatura, elasticidad, conductividad, etc cambiaran."
   ]
  },
  {
   "cell_type": "markdown",
   "id": "4fae27e2-0186-4046-a678-ce3224e1594d",
   "metadata": {},
   "source": [
    "#### Indices de Miller\n",
    "\n",
    "Pendiente."
   ]
  },
  {
   "cell_type": "markdown",
   "id": "7301d47a-e54f-4492-9a6c-ec1fd0db20b1",
   "metadata": {},
   "source": [
    "#### Ligaduras covalentes del C, Si y Ge\n",
    "\n",
    "Tanto el C, como el Si y el Ge tienen cuatro electrones de valencia. Por lo tanto, se podria representar de la siguiente forma:\n",
    "\n",
    "<center><img src=\"./img/Screenshot 2023-04-26 151447.png\" width=\"300\" /></center>\n",
    "\n",
    "La temperatura significa energia cinetica interna de todas las particulas que forman una sustancia. Los atomos de un cristal, al estar enlazados con uniones covalentes y fuertes, no se mueven a traves del espacio, sino que lo hacen en el lugar que se encuentran, es decir, los atomos de un cristal vibran en sus posiciones de equilibrio.\n",
    "\n",
    "Cuando una sustancia adquiere mas energia o temperatura, la distribucion de la misma a los atomos y sus particulas no es la misma. Es de esta forma, que a cualquier $T > 0°K$, algun electron podra adquirir mas energia cinetica que la necesario para vencer la barrera de potencial, y de esta forma, podra romer la ligadura covalente. De esta forma, se genera un par electron-hueco. Es decir, un electron libre de conduccion y una laguna o hueco.\n",
    "Es muy importante, resaltar que tanto el electron libre de conduccion como la laguna son moviles y ambos conducen la corriente electrica. Es por esto, que en los semiconductores se pueden diferenciar dos tipos de portadores de corriente electrica: electrones (n) y lagunas (p).\n",
    "\n",
    "Entonces, a esto lo llamamos un <b>semiconductor inrinseco</b>. Debido a que no tiene impurezas y ademas, la conductividad del material solamente esta determinada por los enlaces covalentes rotos y la temperatura.\n"
   ]
  },
  {
   "cell_type": "markdown",
   "id": "06420638-8898-433a-ac0d-799bd390be24",
   "metadata": {},
   "source": [
    "#### Impurezas en el solido cristalino\n",
    "\n",
    "En el analisis efectuado, el semiconductor era intrinseco, vale decir puro. Entonces, la presencia de electrones y lagunas se debian exclusivamente a la rotura de enlaces equivalentes por la presencia de energia termica. Debido a esto, la cantidad de lagunas y electrones generados eran iguales.\n",
    "\n",
    "Seria poca la importancia de este semiconductor, debido a que la conductividad dependeria exclusivamente de la temperatura. Es por esto, que se procede a contaminar el solido cristalino para tratar de modificar sus propiedades como la conductividad.\n",
    "\n",
    "##### Donores\n",
    "\n",
    "Se llaman impurezas donoras, o simplemente donores, a aquellos elementos pertencientes al grupo V de la tabla periodica. Los elementos mas representativos son el Arsenico y el Fosforo. \n",
    "Agregar impurezas donores es una forma de agregar electrones libres. Ademas, la impureza inyectada se convertira en un ion positivo fijo. Se denomina $N_D$ a la cantidad de atomos donores inyectados por $cm^3$, es decir, la concentracion de impurezas donoras.\n",
    "\n",
    "##### Aceptores\n",
    "\n",
    "Se llaman impurezas aceptoras, o simplemente aceptores, a aquellos elementos pertencientes al grupo III de la tabla periodica. Los elementos mas representativos son el Aluminio, Indio y el Galio. \n",
    "Agregar impurezas donores es una forma de agregar lagunas. Ademas, la impureza inyectada se convertira en un ion negativo fijo. Se denomina $N_A$ a la cantidad de atomos acpetores inyectados por $cm^3$, es decir, la concentracion de impurezas aceptores.\n",
    "\n",
    "##### Ionizacion de las impurezas\n",
    "\n",
    "Podemos asumir que a una temperatura $T>50°K$ todas las impurezas se encuentran absolutamente ionizadas.\n",
    "\n",
    "Como en la mayoria de los casos vamos a considerar, que el semiconductor se encuentra a temperatura ambiente, podemos decir que:\n",
    "\n",
    "\\begin{equation}\n",
    "n \\approx N_D\n",
    "\\end{equation}\n",
    "\n",
    "\\begin{equation}\n",
    "p \\approx N_A\n",
    "\\end{equation}"
   ]
  },
  {
   "cell_type": "markdown",
   "id": "b104842a-a046-4b35-ba55-9f4a844f223f",
   "metadata": {},
   "source": [
    "#### El proceso de la conduccion\n",
    "\n",
    "Como ya es sabido, en los semiconductores, la conduccion se debe a la presencia y el movimiento de dos portadore: lagunas y electrones de conduccion. A continuacion se van a detallar las causas del movimiento de los portadores que permiten la generacion de la corriente electrica:\n",
    "\n",
    "- 1) Agitacion termica\n",
    "- 2) Atomos de impurezas ionizados\n",
    "- 3) Atomos de impurezas sin ionizar\n",
    "- 4) Portadores de distinta polaridad\n",
    "- 5) Portadores de la misma polaridad"
   ]
  },
  {
   "cell_type": "markdown",
   "id": "5de3ce25-1c35-418d-ba57-2adae15323e1",
   "metadata": {},
   "source": [
    "#### Movilidad\n",
    "\n",
    "La movilidad es la constante de proporcionalidad entre el campo electrico y la velocidad media de regimen permanente provocada por el mismo.\n",
    "\n",
    "Se define de la siguiente forma:\n",
    "\n",
    "\\begin{equation}\n",
    "\\mu_n = \n",
    "\\end{equation}"
   ]
  },
  {
   "cell_type": "markdown",
   "id": "abda959a-cd52-4cad-af55-ccf99b8c9185",
   "metadata": {},
   "source": [
    "#### Concentracion de portadores en equilibrio\n",
    "\n",
    "a) Demostracion de la relacion $n_0 \\cdot p_0 = n_i^2(T)$\n",
    "\n",
    "$n_0$ y $p_0$ representan la concentracion de portadores (electrones y lagunas) en equilibrio termico.\n",
    "\n",
    "Normalmente el cristal trandra impurezas donoras o aceptoras, por lo que $n_0 \\neq p_0$. Cuando el material es intrinseco, las concentraciones de portadores se designan con $n_i$ y $p_i$ respectivamente. Y, ya es sabido que $n_i$ = $p_i$. Sera "
   ]
  },
  {
   "cell_type": "code",
   "execution_count": null,
   "id": "085b4d5f-04ee-486c-bd33-575f64e63939",
   "metadata": {},
   "outputs": [],
   "source": []
  },
  {
   "cell_type": "markdown",
   "id": "e786a010-1fff-4cd5-ac9c-e77fb9555c8c",
   "metadata": {},
   "source": [
    "## 3. Bandas de energia"
   ]
  },
  {
   "cell_type": "code",
   "execution_count": null,
   "id": "83c0f97c-c15f-465f-8201-254b626a453c",
   "metadata": {},
   "outputs": [],
   "source": []
  },
  {
   "cell_type": "code",
   "execution_count": null,
   "id": "19f64b10-edfb-4471-995a-1a7fdb15fd39",
   "metadata": {},
   "outputs": [],
   "source": []
  },
  {
   "cell_type": "markdown",
   "id": "14c73f95-99c1-46b1-9593-2f382117c6ab",
   "metadata": {},
   "source": [
    "## 4. Distribucion de electrones en las bandas"
   ]
  },
  {
   "cell_type": "code",
   "execution_count": null,
   "id": "c9a71950-5940-4e63-8d60-5eee900e1c07",
   "metadata": {},
   "outputs": [],
   "source": []
  }
 ],
 "metadata": {
  "kernelspec": {
   "display_name": "Python 3 (ipykernel)",
   "language": "python",
   "name": "python3"
  },
  "language_info": {
   "codemirror_mode": {
    "name": "ipython",
    "version": 3
   },
   "file_extension": ".py",
   "mimetype": "text/x-python",
   "name": "python",
   "nbconvert_exporter": "python",
   "pygments_lexer": "ipython3",
   "version": "3.11.2"
  }
 },
 "nbformat": 4,
 "nbformat_minor": 5
}
