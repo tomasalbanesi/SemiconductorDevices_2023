{
 "cells": [
  {
   "cell_type": "markdown",
   "id": "097f2bbe-17fb-42b8-8317-3ed43b9bdc1d",
   "metadata": {},
   "source": [
    "<img src=\"./img/logo_UTN.svg\" align=\"right\" width=\"150\" /> \n",
    "\n",
    "### Dispositivos Electronicos - 2023\n",
    "# Resumen de formulas y constantes\n",
    "#### Tomas A. Albanesi"
   ]
  },
  {
   "cell_type": "markdown",
   "id": "9a35f059-1f60-40c4-b4cf-c72bea4ccf73",
   "metadata": {},
   "source": [
    "## Declaracion de constantes"
   ]
  },
  {
   "cell_type": "markdown",
   "id": "1ed6c6b0-64ab-4443-b2c6-f6e273e4a0a3",
   "metadata": {},
   "source": [
    "#### Definicion variables"
   ]
  },
  {
   "cell_type": "markdown",
   "id": "76efd23c-211f-4fb0-9204-ccbe44fe03aa",
   "metadata": {},
   "source": [
    "| Simbolo | Descripcion | Unidad |\n",
    "| :--- | :--- | :--- |\n",
    "| $p$ | Concentracion de lagunas | $cm^{-3}$ |\n",
    "| $n$ | Concentracion de electrones de conduccion | $cm^{-3}$ |\n",
    "| $p_i$ | Concentracion de lagunas en un semiconductor intrinseco | $cm^{-3}$ |\n",
    "| $n_i$ | Concentracion de electrones de conduccion en un semiconductor intrinseco | $cm^{-3}$ |\n",
    "| $p_0$ | Concentracion de lagunas en equilibro termico | $cm^{-3}$ |\n",
    "| $n_0$ | Concentracion de electrones de conduccion en equilibro termico | $cm^{-3}$ |\n",
    "| $N_D$ | Concentracion de impurezas donoras| $cm^{-3}$ |\n",
    "| $N_A$ | Concentracion de impurezas aceptoras| $cm^{-3}$ |\n",
    "| $\\mu_n$ | Movilidad de electrones| $\\frac{cm^{2}}{V \\cdot s}$ |\n",
    "| $\\mu_p$ | Movilidad de lagunas| $\\frac{cm^{2}}{V \\cdot s}$ |"
   ]
  },
  {
   "cell_type": "markdown",
   "id": "00c9de47",
   "metadata": {},
   "source": [
    "#### Teoria"
   ]
  },
  {
   "cell_type": "code",
   "execution_count": 1,
   "id": "2bfb6be4",
   "metadata": {},
   "outputs": [],
   "source": [
    "## Parametro de temperatura a modificar\n",
    "\n",
    "T = 300 \n",
    "\n",
    "## Calculo de variables y funciones\n",
    "\n",
    "m_e_base = 9.109e-31 # en kg\n",
    "m_p_efec_Si = 0.59 * m_e_base\n",
    "m_n_efec_Si = 1.18 * m_e_base\n",
    "m_p_efec_Ge = 0.36 * m_e_base\n",
    "m_n_efec_Ge = 0.55 * m_e_base\n",
    "m_p_efec_AsGa = 0.52 * m_e_base\n",
    "m_n_efec_AsGa = 0.066 * m_e_base\n",
    "\n",
    "k_j = 1.38e-23\n",
    "k_ev = 8.61e-5\n",
    "\n",
    "h_j = 6.62e-34\n",
    "h_ev = 4.13e-15\n",
    "\n",
    "import math"
   ]
  },
  {
   "cell_type": "markdown",
   "id": "807bc72f-db37-4158-993a-0615b54e8bb5",
   "metadata": {},
   "source": [
    "## Resumen de formulas"
   ]
  },
  {
   "cell_type": "markdown",
   "id": "a60e279a-e427-4323-b4d3-93f134d117f0",
   "metadata": {},
   "source": [
    "### Relaciones importantes en los semiconductores\n",
    "\n",
    "\\begin{equation}\n",
    "n_0 \\cdot p_0 = n_i^2(T)\n",
    "\\end{equation}\n",
    "\n",
    "\\begin{equation}\n",
    "N = n_0 - p_0 = N_D - N_A\n",
    "\\end{equation}"
   ]
  },
  {
   "cell_type": "markdown",
   "id": "3b270a57-2775-494e-8ead-15bfabb23497",
   "metadata": {
    "tags": []
   },
   "source": [
    "### Calculo de $p_0$ y $n_0$ en equilibro termico (Distribucion Fermi-Dirac)"
   ]
  },
  {
   "cell_type": "markdown",
   "id": "88ae2d0c",
   "metadata": {},
   "source": [
    "##### Teoria\n",
    "\n",
    "El campo de validez de estas expresiones es solo para concentraciones diluidas de electrones dentro de la banda. Esta es la situacion de la mayoria de los dispositivos excepto en el diodo tunel, el laser de inyeccion, entre otros.\n",
    "\n",
    "Portadores negativos:\n",
    "\n",
    "\\begin{equation}\n",
    "n_0 = N_c \\cdot e^{-\\frac{E_c - E_f}{k T}}\n",
    "\\end{equation}\n",
    "\n",
    "\\begin{equation}\n",
    "N_c = 2 \\cdot \\left(\\frac{2 \\pi m_n^* k T}{h^2}\\right)^{3/2}\n",
    "\\end{equation}\n",
    "\n",
    "Portadores positivos:\n",
    "\n",
    "\\begin{equation}\n",
    "p_0 = N_v \\cdot e^{-\\frac{E_f - E_v}{k T}}\n",
    "\\end{equation}\n",
    "\n",
    "\\begin{equation}\n",
    "N_v = 2 \\cdot \\left(\\frac{2 \\pi m_p^* k T}{h^2}\\right)^{3/2}\n",
    "\\end{equation}"
   ]
  },
  {
   "cell_type": "markdown",
   "id": "576bafaf-b228-4d24-b610-7d3380cd5a22",
   "metadata": {},
   "source": [
    "### Calculo de movilidad $\\mu_n$"
   ]
  },
  {
   "cell_type": "markdown",
   "id": "6f723f67-2bcf-4216-bf6e-a45ab7796106",
   "metadata": {},
   "source": [
    "##### Teoria\n",
    "\n",
    "La movilidad de electrones o lagunas se define de la siguiente forma:\n",
    "\n",
    "\\begin{equation}\n",
    "v = \\mu_n \\cdot E\n",
    "\\end{equation}"
   ]
  }
 ],
 "metadata": {
  "kernelspec": {
   "display_name": "Python 3 (ipykernel)",
   "language": "python",
   "name": "python3"
  },
  "language_info": {
   "codemirror_mode": {
    "name": "ipython",
    "version": 3
   },
   "file_extension": ".py",
   "mimetype": "text/x-python",
   "name": "python",
   "nbconvert_exporter": "python",
   "pygments_lexer": "ipython3",
   "version": "3.11.2"
  }
 },
 "nbformat": 4,
 "nbformat_minor": 5
}
